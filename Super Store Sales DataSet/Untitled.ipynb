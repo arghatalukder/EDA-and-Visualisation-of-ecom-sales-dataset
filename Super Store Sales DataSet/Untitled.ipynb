{
 "cells": [
  {
   "cell_type": "code",
   "execution_count": 1,
   "id": "400c2b66",
   "metadata": {},
   "outputs": [],
   "source": [
    "import numpy as np\n",
    "import pandas as pd\n",
    "import matplotlib.pyplot as plt\n",
    "%matplotlib inline \n",
    "import seaborn as sns"
   ]
  },
  {
   "cell_type": "code",
   "execution_count": 2,
   "id": "28de712c",
   "metadata": {},
   "outputs": [],
   "source": [
    "# **********DATA CLEANING********"
   ]
  },
  {
   "cell_type": "code",
   "execution_count": 3,
   "id": "82ee1916",
   "metadata": {},
   "outputs": [],
   "source": [
    "# To read csv file\n",
    "df = pd.read_csv('SuperStore_Sales_Datasetc.csv')"
   ]
  },
  {
   "cell_type": "code",
   "execution_count": 4,
   "id": "3fc59399",
   "metadata": {},
   "outputs": [
    {
     "data": {
      "text/plain": [
       "(5901, 23)"
      ]
     },
     "execution_count": 4,
     "metadata": {},
     "output_type": "execute_result"
    }
   ],
   "source": [
    "# To find how many coloumns and rows\n",
    "df.shape"
   ]
  },
  {
   "cell_type": "code",
   "execution_count": 5,
   "id": "dc16080e",
   "metadata": {
    "scrolled": false
   },
   "outputs": [
    {
     "data": {
      "text/html": [
       "<div>\n",
       "<style scoped>\n",
       "    .dataframe tbody tr th:only-of-type {\n",
       "        vertical-align: middle;\n",
       "    }\n",
       "\n",
       "    .dataframe tbody tr th {\n",
       "        vertical-align: top;\n",
       "    }\n",
       "\n",
       "    .dataframe thead th {\n",
       "        text-align: right;\n",
       "    }\n",
       "</style>\n",
       "<table border=\"1\" class=\"dataframe\">\n",
       "  <thead>\n",
       "    <tr style=\"text-align: right;\">\n",
       "      <th></th>\n",
       "      <th>Row ID+O6G3A1:R6</th>\n",
       "      <th>Order ID</th>\n",
       "      <th>Order Date</th>\n",
       "      <th>Ship Date</th>\n",
       "      <th>Ship Mode</th>\n",
       "      <th>Customer ID</th>\n",
       "      <th>Customer Name</th>\n",
       "      <th>Segment</th>\n",
       "      <th>Country</th>\n",
       "      <th>City</th>\n",
       "      <th>...</th>\n",
       "      <th>Category</th>\n",
       "      <th>Sub-Category</th>\n",
       "      <th>Product Name</th>\n",
       "      <th>Sales</th>\n",
       "      <th>Quantity</th>\n",
       "      <th>Profit</th>\n",
       "      <th>Returns</th>\n",
       "      <th>Payment Mode</th>\n",
       "      <th>ind1</th>\n",
       "      <th>ind2</th>\n",
       "    </tr>\n",
       "  </thead>\n",
       "  <tbody>\n",
       "    <tr>\n",
       "      <th>0</th>\n",
       "      <td>4918</td>\n",
       "      <td>CA-2019-160304</td>\n",
       "      <td>01-01-2019</td>\n",
       "      <td>07-01-2019</td>\n",
       "      <td>Standard Class</td>\n",
       "      <td>BM-11575</td>\n",
       "      <td>Brendan Murry</td>\n",
       "      <td>Corporate</td>\n",
       "      <td>United States</td>\n",
       "      <td>Gaithersburg</td>\n",
       "      <td>...</td>\n",
       "      <td>Furniture</td>\n",
       "      <td>Bookcases</td>\n",
       "      <td>Bush Westfield Collection Bookcases, Medium Ch...</td>\n",
       "      <td>73.94</td>\n",
       "      <td>1</td>\n",
       "      <td>28.2668</td>\n",
       "      <td>NaN</td>\n",
       "      <td>Online</td>\n",
       "      <td>NaN</td>\n",
       "      <td>NaN</td>\n",
       "    </tr>\n",
       "    <tr>\n",
       "      <th>1</th>\n",
       "      <td>4919</td>\n",
       "      <td>CA-2019-160304</td>\n",
       "      <td>02-01-2019</td>\n",
       "      <td>07-01-2019</td>\n",
       "      <td>Standard Class</td>\n",
       "      <td>BM-11575</td>\n",
       "      <td>Brendan Murry</td>\n",
       "      <td>Corporate</td>\n",
       "      <td>United States</td>\n",
       "      <td>Gaithersburg</td>\n",
       "      <td>...</td>\n",
       "      <td>Furniture</td>\n",
       "      <td>Bookcases</td>\n",
       "      <td>Bush Westfield Collection Bookcases, Medium Ch...</td>\n",
       "      <td>173.94</td>\n",
       "      <td>3</td>\n",
       "      <td>38.2668</td>\n",
       "      <td>NaN</td>\n",
       "      <td>Online</td>\n",
       "      <td>NaN</td>\n",
       "      <td>NaN</td>\n",
       "    </tr>\n",
       "    <tr>\n",
       "      <th>2</th>\n",
       "      <td>4920</td>\n",
       "      <td>CA-2019-160304</td>\n",
       "      <td>02-01-2019</td>\n",
       "      <td>07-01-2019</td>\n",
       "      <td>Standard Class</td>\n",
       "      <td>BM-11575</td>\n",
       "      <td>Brendan Murry</td>\n",
       "      <td>Corporate</td>\n",
       "      <td>United States</td>\n",
       "      <td>Gaithersburg</td>\n",
       "      <td>...</td>\n",
       "      <td>Technology</td>\n",
       "      <td>Phones</td>\n",
       "      <td>GE 30522EE2</td>\n",
       "      <td>231.98</td>\n",
       "      <td>2</td>\n",
       "      <td>67.2742</td>\n",
       "      <td>NaN</td>\n",
       "      <td>Cards</td>\n",
       "      <td>NaN</td>\n",
       "      <td>NaN</td>\n",
       "    </tr>\n",
       "    <tr>\n",
       "      <th>3</th>\n",
       "      <td>3074</td>\n",
       "      <td>CA-2019-125206</td>\n",
       "      <td>03-01-2019</td>\n",
       "      <td>05-01-2019</td>\n",
       "      <td>First Class</td>\n",
       "      <td>LR-16915</td>\n",
       "      <td>Lena Radford</td>\n",
       "      <td>Consumer</td>\n",
       "      <td>United States</td>\n",
       "      <td>Los Angeles</td>\n",
       "      <td>...</td>\n",
       "      <td>Office Supplies</td>\n",
       "      <td>Storage</td>\n",
       "      <td>Recycled Steel Personal File for Hanging File ...</td>\n",
       "      <td>114.46</td>\n",
       "      <td>2</td>\n",
       "      <td>28.6150</td>\n",
       "      <td>NaN</td>\n",
       "      <td>Online</td>\n",
       "      <td>NaN</td>\n",
       "      <td>NaN</td>\n",
       "    </tr>\n",
       "    <tr>\n",
       "      <th>4</th>\n",
       "      <td>8604</td>\n",
       "      <td>US-2019-116365</td>\n",
       "      <td>03-01-2019</td>\n",
       "      <td>08-01-2019</td>\n",
       "      <td>Standard Class</td>\n",
       "      <td>CA-12310</td>\n",
       "      <td>Christine Abelman</td>\n",
       "      <td>Corporate</td>\n",
       "      <td>United States</td>\n",
       "      <td>San Antonio</td>\n",
       "      <td>...</td>\n",
       "      <td>Technology</td>\n",
       "      <td>Accessories</td>\n",
       "      <td>Imation Clip USB flash drive - 8 GB</td>\n",
       "      <td>30.08</td>\n",
       "      <td>2</td>\n",
       "      <td>-5.2640</td>\n",
       "      <td>NaN</td>\n",
       "      <td>Online</td>\n",
       "      <td>NaN</td>\n",
       "      <td>NaN</td>\n",
       "    </tr>\n",
       "  </tbody>\n",
       "</table>\n",
       "<p>5 rows × 23 columns</p>\n",
       "</div>"
      ],
      "text/plain": [
       "   Row ID+O6G3A1:R6        Order ID  Order Date   Ship Date       Ship Mode   \n",
       "0              4918  CA-2019-160304  01-01-2019  07-01-2019  Standard Class  \\\n",
       "1              4919  CA-2019-160304  02-01-2019  07-01-2019  Standard Class   \n",
       "2              4920  CA-2019-160304  02-01-2019  07-01-2019  Standard Class   \n",
       "3              3074  CA-2019-125206  03-01-2019  05-01-2019     First Class   \n",
       "4              8604  US-2019-116365  03-01-2019  08-01-2019  Standard Class   \n",
       "\n",
       "  Customer ID      Customer Name    Segment        Country          City  ...   \n",
       "0    BM-11575      Brendan Murry  Corporate  United States  Gaithersburg  ...  \\\n",
       "1    BM-11575      Brendan Murry  Corporate  United States  Gaithersburg  ...   \n",
       "2    BM-11575      Brendan Murry  Corporate  United States  Gaithersburg  ...   \n",
       "3    LR-16915       Lena Radford   Consumer  United States   Los Angeles  ...   \n",
       "4    CA-12310  Christine Abelman  Corporate  United States   San Antonio  ...   \n",
       "\n",
       "          Category Sub-Category   \n",
       "0        Furniture    Bookcases  \\\n",
       "1        Furniture    Bookcases   \n",
       "2       Technology       Phones   \n",
       "3  Office Supplies      Storage   \n",
       "4       Technology  Accessories   \n",
       "\n",
       "                                        Product Name   Sales Quantity   \n",
       "0  Bush Westfield Collection Bookcases, Medium Ch...   73.94        1  \\\n",
       "1  Bush Westfield Collection Bookcases, Medium Ch...  173.94        3   \n",
       "2                                        GE 30522EE2  231.98        2   \n",
       "3  Recycled Steel Personal File for Hanging File ...  114.46        2   \n",
       "4                Imation Clip USB flash drive - 8 GB   30.08        2   \n",
       "\n",
       "    Profit  Returns  Payment Mode  ind1  ind2  \n",
       "0  28.2668      NaN        Online   NaN   NaN  \n",
       "1  38.2668      NaN        Online   NaN   NaN  \n",
       "2  67.2742      NaN         Cards   NaN   NaN  \n",
       "3  28.6150      NaN        Online   NaN   NaN  \n",
       "4  -5.2640      NaN        Online   NaN   NaN  \n",
       "\n",
       "[5 rows x 23 columns]"
      ]
     },
     "execution_count": 5,
     "metadata": {},
     "output_type": "execute_result"
    }
   ],
   "source": [
    "# To see 5 columns\n",
    "df.head(5)"
   ]
  },
  {
   "cell_type": "code",
   "execution_count": 43,
   "id": "866b9140",
   "metadata": {
    "scrolled": true
   },
   "outputs": [
    {
     "name": "stdout",
     "output_type": "stream",
     "text": [
      "<class 'pandas.core.frame.DataFrame'>\n",
      "RangeIndex: 5901 entries, 0 to 5900\n",
      "Data columns (total 21 columns):\n",
      " #   Column            Non-Null Count  Dtype  \n",
      "---  ------            --------------  -----  \n",
      " 0   Row ID+O6G3A1:R6  5901 non-null   int64  \n",
      " 1   Order ID          5901 non-null   object \n",
      " 2   Order Date        5901 non-null   object \n",
      " 3   Ship Date         5901 non-null   object \n",
      " 4   Ship Mode         5901 non-null   object \n",
      " 5   Customer ID       5901 non-null   object \n",
      " 6   Customer Name     5901 non-null   object \n",
      " 7   Segment           5901 non-null   object \n",
      " 8   Country           5901 non-null   object \n",
      " 9   City              5901 non-null   object \n",
      " 10  State             5901 non-null   object \n",
      " 11  Region            5901 non-null   object \n",
      " 12  Product ID        5901 non-null   object \n",
      " 13  Category          5901 non-null   object \n",
      " 14  Sub-Category      5901 non-null   object \n",
      " 15  Product Name      5901 non-null   object \n",
      " 16  Sales             5901 non-null   float64\n",
      " 17  Quantity          5901 non-null   int64  \n",
      " 18  Profit            5901 non-null   float64\n",
      " 19  Returns           5901 non-null   float64\n",
      " 20  Payment Mode      5901 non-null   object \n",
      "dtypes: float64(3), int64(2), object(16)\n",
      "memory usage: 968.3+ KB\n"
     ]
    }
   ],
   "source": [
    "df.info()"
   ]
  },
  {
   "cell_type": "code",
   "execution_count": 7,
   "id": "683c93b6",
   "metadata": {},
   "outputs": [],
   "source": [
    "# To give 0 to null values of returns\n",
    "df['Returns'] = df['Returns'].fillna(0)"
   ]
  },
  {
   "cell_type": "code",
   "execution_count": 8,
   "id": "131aa3fe",
   "metadata": {
    "scrolled": false
   },
   "outputs": [
    {
     "data": {
      "text/plain": [
       "Row ID+O6G3A1:R6       0\n",
       "Order ID               0\n",
       "Order Date             0\n",
       "Ship Date              0\n",
       "Ship Mode              0\n",
       "Customer ID            0\n",
       "Customer Name          0\n",
       "Segment                0\n",
       "Country                0\n",
       "City                   0\n",
       "State                  0\n",
       "Region                 0\n",
       "Product ID             0\n",
       "Category               0\n",
       "Sub-Category           0\n",
       "Product Name           0\n",
       "Sales                  0\n",
       "Quantity               0\n",
       "Profit                 0\n",
       "Returns                0\n",
       "Payment Mode           0\n",
       "ind1                5901\n",
       "ind2                5901\n",
       "dtype: int64"
      ]
     },
     "execution_count": 8,
     "metadata": {},
     "output_type": "execute_result"
    }
   ],
   "source": [
    "df.isnull().sum()"
   ]
  },
  {
   "cell_type": "code",
   "execution_count": 9,
   "id": "99f8f7dc",
   "metadata": {},
   "outputs": [],
   "source": [
    "# # Here we to delete ind1 and ind2 because it has no value\n",
    "df = df.dropna(axis='columns')"
   ]
  },
  {
   "cell_type": "code",
   "execution_count": 10,
   "id": "eff80848",
   "metadata": {},
   "outputs": [
    {
     "data": {
      "text/plain": [
       "Row ID+O6G3A1:R6    0\n",
       "Order ID            0\n",
       "Order Date          0\n",
       "Ship Date           0\n",
       "Ship Mode           0\n",
       "Customer ID         0\n",
       "Customer Name       0\n",
       "Segment             0\n",
       "Country             0\n",
       "City                0\n",
       "State               0\n",
       "Region              0\n",
       "Product ID          0\n",
       "Category            0\n",
       "Sub-Category        0\n",
       "Product Name        0\n",
       "Sales               0\n",
       "Quantity            0\n",
       "Profit              0\n",
       "Returns             0\n",
       "Payment Mode        0\n",
       "dtype: int64"
      ]
     },
     "execution_count": 10,
     "metadata": {},
     "output_type": "execute_result"
    }
   ],
   "source": [
    "df.isnull().sum()"
   ]
  },
  {
   "cell_type": "code",
   "execution_count": 11,
   "id": "36de0edb",
   "metadata": {},
   "outputs": [
    {
     "data": {
      "text/plain": [
       "Index(['Row ID+O6G3A1:R6', 'Order ID', 'Order Date', 'Ship Date', 'Ship Mode',\n",
       "       'Customer ID', 'Customer Name', 'Segment', 'Country', 'City', 'State',\n",
       "       'Region', 'Product ID', 'Category', 'Sub-Category', 'Product Name',\n",
       "       'Sales', 'Quantity', 'Profit', 'Returns', 'Payment Mode'],\n",
       "      dtype='object')"
      ]
     },
     "execution_count": 11,
     "metadata": {},
     "output_type": "execute_result"
    }
   ],
   "source": [
    "# To see all columns\n",
    "df.columns"
   ]
  },
  {
   "cell_type": "code",
   "execution_count": 12,
   "id": "8c8db5f8",
   "metadata": {},
   "outputs": [
    {
     "data": {
      "text/html": [
       "<div>\n",
       "<style scoped>\n",
       "    .dataframe tbody tr th:only-of-type {\n",
       "        vertical-align: middle;\n",
       "    }\n",
       "\n",
       "    .dataframe tbody tr th {\n",
       "        vertical-align: top;\n",
       "    }\n",
       "\n",
       "    .dataframe thead th {\n",
       "        text-align: right;\n",
       "    }\n",
       "</style>\n",
       "<table border=\"1\" class=\"dataframe\">\n",
       "  <thead>\n",
       "    <tr style=\"text-align: right;\">\n",
       "      <th></th>\n",
       "      <th>Row ID+O6G3A1:R6</th>\n",
       "      <th>Sales</th>\n",
       "      <th>Quantity</th>\n",
       "      <th>Profit</th>\n",
       "      <th>Returns</th>\n",
       "    </tr>\n",
       "  </thead>\n",
       "  <tbody>\n",
       "    <tr>\n",
       "      <th>count</th>\n",
       "      <td>5901.000000</td>\n",
       "      <td>5901.000000</td>\n",
       "      <td>5901.000000</td>\n",
       "      <td>5901.000000</td>\n",
       "      <td>5901.000000</td>\n",
       "    </tr>\n",
       "    <tr>\n",
       "      <th>mean</th>\n",
       "      <td>5022.422471</td>\n",
       "      <td>265.345589</td>\n",
       "      <td>3.781901</td>\n",
       "      <td>29.700408</td>\n",
       "      <td>0.048636</td>\n",
       "    </tr>\n",
       "    <tr>\n",
       "      <th>std</th>\n",
       "      <td>2877.977184</td>\n",
       "      <td>474.260645</td>\n",
       "      <td>2.212917</td>\n",
       "      <td>259.589138</td>\n",
       "      <td>0.215124</td>\n",
       "    </tr>\n",
       "    <tr>\n",
       "      <th>min</th>\n",
       "      <td>1.000000</td>\n",
       "      <td>0.836000</td>\n",
       "      <td>1.000000</td>\n",
       "      <td>-6599.978000</td>\n",
       "      <td>0.000000</td>\n",
       "    </tr>\n",
       "    <tr>\n",
       "      <th>25%</th>\n",
       "      <td>2486.000000</td>\n",
       "      <td>71.976000</td>\n",
       "      <td>2.000000</td>\n",
       "      <td>1.795500</td>\n",
       "      <td>0.000000</td>\n",
       "    </tr>\n",
       "    <tr>\n",
       "      <th>50%</th>\n",
       "      <td>5091.000000</td>\n",
       "      <td>128.648000</td>\n",
       "      <td>3.000000</td>\n",
       "      <td>8.502500</td>\n",
       "      <td>0.000000</td>\n",
       "    </tr>\n",
       "    <tr>\n",
       "      <th>75%</th>\n",
       "      <td>7456.000000</td>\n",
       "      <td>265.170000</td>\n",
       "      <td>5.000000</td>\n",
       "      <td>28.615000</td>\n",
       "      <td>0.000000</td>\n",
       "    </tr>\n",
       "    <tr>\n",
       "      <th>max</th>\n",
       "      <td>9994.000000</td>\n",
       "      <td>9099.930000</td>\n",
       "      <td>14.000000</td>\n",
       "      <td>8399.976000</td>\n",
       "      <td>1.000000</td>\n",
       "    </tr>\n",
       "  </tbody>\n",
       "</table>\n",
       "</div>"
      ],
      "text/plain": [
       "       Row ID+O6G3A1:R6        Sales     Quantity       Profit      Returns\n",
       "count       5901.000000  5901.000000  5901.000000  5901.000000  5901.000000\n",
       "mean        5022.422471   265.345589     3.781901    29.700408     0.048636\n",
       "std         2877.977184   474.260645     2.212917   259.589138     0.215124\n",
       "min            1.000000     0.836000     1.000000 -6599.978000     0.000000\n",
       "25%         2486.000000    71.976000     2.000000     1.795500     0.000000\n",
       "50%         5091.000000   128.648000     3.000000     8.502500     0.000000\n",
       "75%         7456.000000   265.170000     5.000000    28.615000     0.000000\n",
       "max         9994.000000  9099.930000    14.000000  8399.976000     1.000000"
      ]
     },
     "execution_count": 12,
     "metadata": {},
     "output_type": "execute_result"
    }
   ],
   "source": [
    "# To describe() method returns description of the data in the DataFrame(i.e count,mean,std etc)\n",
    "df.describe()"
   ]
  },
  {
   "cell_type": "code",
   "execution_count": 13,
   "id": "2cf1cfc0",
   "metadata": {},
   "outputs": [
    {
     "data": {
      "text/html": [
       "<div>\n",
       "<style scoped>\n",
       "    .dataframe tbody tr th:only-of-type {\n",
       "        vertical-align: middle;\n",
       "    }\n",
       "\n",
       "    .dataframe tbody tr th {\n",
       "        vertical-align: top;\n",
       "    }\n",
       "\n",
       "    .dataframe thead th {\n",
       "        text-align: right;\n",
       "    }\n",
       "</style>\n",
       "<table border=\"1\" class=\"dataframe\">\n",
       "  <thead>\n",
       "    <tr style=\"text-align: right;\">\n",
       "      <th></th>\n",
       "      <th>Sales</th>\n",
       "      <th>Profit</th>\n",
       "    </tr>\n",
       "  </thead>\n",
       "  <tbody>\n",
       "    <tr>\n",
       "      <th>count</th>\n",
       "      <td>5901.000000</td>\n",
       "      <td>5901.000000</td>\n",
       "    </tr>\n",
       "    <tr>\n",
       "      <th>mean</th>\n",
       "      <td>265.345589</td>\n",
       "      <td>29.700408</td>\n",
       "    </tr>\n",
       "    <tr>\n",
       "      <th>std</th>\n",
       "      <td>474.260645</td>\n",
       "      <td>259.589138</td>\n",
       "    </tr>\n",
       "    <tr>\n",
       "      <th>min</th>\n",
       "      <td>0.836000</td>\n",
       "      <td>-6599.978000</td>\n",
       "    </tr>\n",
       "    <tr>\n",
       "      <th>25%</th>\n",
       "      <td>71.976000</td>\n",
       "      <td>1.795500</td>\n",
       "    </tr>\n",
       "    <tr>\n",
       "      <th>50%</th>\n",
       "      <td>128.648000</td>\n",
       "      <td>8.502500</td>\n",
       "    </tr>\n",
       "    <tr>\n",
       "      <th>75%</th>\n",
       "      <td>265.170000</td>\n",
       "      <td>28.615000</td>\n",
       "    </tr>\n",
       "    <tr>\n",
       "      <th>max</th>\n",
       "      <td>9099.930000</td>\n",
       "      <td>8399.976000</td>\n",
       "    </tr>\n",
       "  </tbody>\n",
       "</table>\n",
       "</div>"
      ],
      "text/plain": [
       "             Sales       Profit\n",
       "count  5901.000000  5901.000000\n",
       "mean    265.345589    29.700408\n",
       "std     474.260645   259.589138\n",
       "min       0.836000 -6599.978000\n",
       "25%      71.976000     1.795500\n",
       "50%     128.648000     8.502500\n",
       "75%     265.170000    28.615000\n",
       "max    9099.930000  8399.976000"
      ]
     },
     "execution_count": 13,
     "metadata": {},
     "output_type": "execute_result"
    }
   ],
   "source": [
    "# To describe specific columns\n",
    "df[['Sales','Profit']].describe()"
   ]
  },
  {
   "cell_type": "code",
   "execution_count": 23,
   "id": "6f1d28d6",
   "metadata": {},
   "outputs": [],
   "source": [
    "# ********************EXPLORATORY DATA ANALYSIS************************"
   ]
  },
  {
   "cell_type": "code",
   "execution_count": 14,
   "id": "e58cd2a2",
   "metadata": {},
   "outputs": [
    {
     "data": {
      "text/plain": [
       "8399.976"
      ]
     },
     "execution_count": 14,
     "metadata": {},
     "output_type": "execute_result"
    }
   ],
   "source": [
    "# Highest, Lowest, Avg Profit\n",
    "df['Profit'].max()\n"
   ]
  },
  {
   "cell_type": "code",
   "execution_count": 15,
   "id": "ef9d8c41",
   "metadata": {},
   "outputs": [
    {
     "data": {
      "text/plain": [
       "-6599.978"
      ]
     },
     "execution_count": 15,
     "metadata": {},
     "output_type": "execute_result"
    }
   ],
   "source": [
    "df['Profit'].min()"
   ]
  },
  {
   "cell_type": "code",
   "execution_count": 16,
   "id": "f09cffdd",
   "metadata": {},
   "outputs": [
    {
     "data": {
      "text/plain": [
       "29.70040771055753"
      ]
     },
     "execution_count": 16,
     "metadata": {},
     "output_type": "execute_result"
    }
   ],
   "source": [
    "df['Profit'].mean()"
   ]
  },
  {
   "cell_type": "code",
   "execution_count": 17,
   "id": "161bd9a9",
   "metadata": {},
   "outputs": [
    {
     "data": {
      "text/plain": [
       "9099.93"
      ]
     },
     "execution_count": 17,
     "metadata": {},
     "output_type": "execute_result"
    }
   ],
   "source": [
    "# Highest, Lowest, Avg Sales\n",
    "df['Sales'].max()"
   ]
  },
  {
   "cell_type": "code",
   "execution_count": 18,
   "id": "9c9984e3",
   "metadata": {},
   "outputs": [
    {
     "data": {
      "text/plain": [
       "0.836"
      ]
     },
     "execution_count": 18,
     "metadata": {},
     "output_type": "execute_result"
    }
   ],
   "source": [
    "df['Sales'].min()\n"
   ]
  },
  {
   "cell_type": "code",
   "execution_count": 19,
   "id": "59b2aaf8",
   "metadata": {},
   "outputs": [
    {
     "data": {
      "text/plain": [
       "265.3455894255211"
      ]
     },
     "execution_count": 19,
     "metadata": {},
     "output_type": "execute_result"
    }
   ],
   "source": [
    "df['Sales'].mean()"
   ]
  },
  {
   "cell_type": "code",
   "execution_count": 20,
   "id": "fbc387dd",
   "metadata": {},
   "outputs": [
    {
     "data": {
      "text/plain": [
       "14"
      ]
     },
     "execution_count": 20,
     "metadata": {},
     "output_type": "execute_result"
    }
   ],
   "source": [
    "# Highest, Lowest, Avg Quantity\n",
    "df['Quantity'].max()"
   ]
  },
  {
   "cell_type": "code",
   "execution_count": 21,
   "id": "f4fc9cf0",
   "metadata": {},
   "outputs": [
    {
     "data": {
      "text/plain": [
       "1"
      ]
     },
     "execution_count": 21,
     "metadata": {},
     "output_type": "execute_result"
    }
   ],
   "source": [
    "df['Quantity'].min()"
   ]
  },
  {
   "cell_type": "code",
   "execution_count": 22,
   "id": "325a5f26",
   "metadata": {},
   "outputs": [
    {
     "data": {
      "text/plain": [
       "3.7819013726487034"
      ]
     },
     "execution_count": 22,
     "metadata": {},
     "output_type": "execute_result"
    }
   ],
   "source": [
    "df['Quantity'].mean()"
   ]
  },
  {
   "cell_type": "code",
   "execution_count": 23,
   "id": "e8fb8355",
   "metadata": {},
   "outputs": [
    {
     "data": {
      "text/plain": [
       "430"
      ]
     },
     "execution_count": 23,
     "metadata": {},
     "output_type": "execute_result"
    }
   ],
   "source": [
    "# How many customers are from Los Angeles\n",
    "len(df[df['City']=='Los Angeles'])"
   ]
  },
  {
   "cell_type": "code",
   "execution_count": 24,
   "id": "2088a9d9",
   "metadata": {},
   "outputs": [
    {
     "data": {
      "text/plain": [
       "1381"
      ]
     },
     "execution_count": 24,
     "metadata": {},
     "output_type": "execute_result"
    }
   ],
   "source": [
    "# How many customer are from different region\n",
    "len(df[df['Region']=='Central'])"
   ]
  },
  {
   "cell_type": "code",
   "execution_count": 25,
   "id": "1291469b",
   "metadata": {},
   "outputs": [
    {
     "data": {
      "text/plain": [
       "1688"
      ]
     },
     "execution_count": 25,
     "metadata": {},
     "output_type": "execute_result"
    }
   ],
   "source": [
    "len(df[df['Region']=='East'])"
   ]
  },
  {
   "cell_type": "code",
   "execution_count": 26,
   "id": "c095a81c",
   "metadata": {},
   "outputs": [
    {
     "data": {
      "text/plain": [
       "931"
      ]
     },
     "execution_count": 26,
     "metadata": {},
     "output_type": "execute_result"
    }
   ],
   "source": [
    "len(df[df['Region']=='South'])"
   ]
  },
  {
   "cell_type": "code",
   "execution_count": 27,
   "id": "4167f5e1",
   "metadata": {},
   "outputs": [
    {
     "data": {
      "text/plain": [
       "1901"
      ]
     },
     "execution_count": 27,
     "metadata": {},
     "output_type": "execute_result"
    }
   ],
   "source": [
    "len(df[df['Region']=='West'])"
   ]
  },
  {
   "cell_type": "code",
   "execution_count": 28,
   "id": "76c1814e",
   "metadata": {},
   "outputs": [
    {
     "data": {
      "text/plain": [
       "0       Standard Class\n",
       "1       Standard Class\n",
       "2       Standard Class\n",
       "3          First Class\n",
       "4       Standard Class\n",
       "             ...      \n",
       "5896    Standard Class\n",
       "5897    Standard Class\n",
       "5898    Standard Class\n",
       "5899    Standard Class\n",
       "5900    Standard Class\n",
       "Name: Ship Mode, Length: 5901, dtype: object"
      ]
     },
     "execution_count": 28,
     "metadata": {},
     "output_type": "execute_result"
    }
   ],
   "source": [
    "#How many customers are from Standard class and first class\n",
    "df['Ship Mode']"
   ]
  },
  {
   "cell_type": "code",
   "execution_count": 29,
   "id": "c6db6f5f",
   "metadata": {},
   "outputs": [
    {
     "data": {
      "text/plain": [
       "3451"
      ]
     },
     "execution_count": 29,
     "metadata": {},
     "output_type": "execute_result"
    }
   ],
   "source": [
    "len(df[df['Ship Mode']=='Standard Class'])"
   ]
  },
  {
   "cell_type": "code",
   "execution_count": 30,
   "id": "7e80bf51",
   "metadata": {},
   "outputs": [
    {
     "data": {
      "text/plain": [
       "959"
      ]
     },
     "execution_count": 30,
     "metadata": {},
     "output_type": "execute_result"
    }
   ],
   "source": [
    "len(df[df['Ship Mode']=='First Class'])"
   ]
  },
  {
   "cell_type": "code",
   "execution_count": 31,
   "id": "a3e0cf9f",
   "metadata": {},
   "outputs": [
    {
     "data": {
      "text/plain": [
       "0    COD\n",
       "Name: Payment Mode, dtype: object"
      ]
     },
     "execution_count": 31,
     "metadata": {},
     "output_type": "execute_result"
    }
   ],
   "source": [
    "# Get Highest Payment Mode\n",
    "df['Payment Mode'].mode()"
   ]
  },
  {
   "cell_type": "code",
   "execution_count": 32,
   "id": "8d66b1d2",
   "metadata": {},
   "outputs": [
    {
     "data": {
      "text/plain": [
       "Payment Mode\n",
       "COD       2453\n",
       "Online    2164\n",
       "Cards     1284\n",
       "Name: count, dtype: int64"
      ]
     },
     "execution_count": 32,
     "metadata": {},
     "output_type": "execute_result"
    }
   ],
   "source": [
    "# All counts of payment mode\n",
    "df['Payment Mode'].value_counts()"
   ]
  },
  {
   "cell_type": "code",
   "execution_count": 33,
   "id": "57e74dc9",
   "metadata": {},
   "outputs": [
    {
     "data": {
      "text/html": [
       "<div>\n",
       "<style scoped>\n",
       "    .dataframe tbody tr th:only-of-type {\n",
       "        vertical-align: middle;\n",
       "    }\n",
       "\n",
       "    .dataframe tbody tr th {\n",
       "        vertical-align: top;\n",
       "    }\n",
       "\n",
       "    .dataframe thead th {\n",
       "        text-align: right;\n",
       "    }\n",
       "</style>\n",
       "<table border=\"1\" class=\"dataframe\">\n",
       "  <thead>\n",
       "    <tr style=\"text-align: right;\">\n",
       "      <th></th>\n",
       "      <th>Ship Mode</th>\n",
       "      <th>Sales</th>\n",
       "    </tr>\n",
       "  </thead>\n",
       "  <tbody>\n",
       "    <tr>\n",
       "      <th>3</th>\n",
       "      <td>Standard Class</td>\n",
       "      <td>912401.0388</td>\n",
       "    </tr>\n",
       "    <tr>\n",
       "      <th>2</th>\n",
       "      <td>Second Class</td>\n",
       "      <td>314508.0640</td>\n",
       "    </tr>\n",
       "    <tr>\n",
       "      <th>0</th>\n",
       "      <td>First Class</td>\n",
       "      <td>242936.7194</td>\n",
       "    </tr>\n",
       "    <tr>\n",
       "      <th>1</th>\n",
       "      <td>Same Day</td>\n",
       "      <td>95958.5010</td>\n",
       "    </tr>\n",
       "  </tbody>\n",
       "</table>\n",
       "</div>"
      ],
      "text/plain": [
       "        Ship Mode        Sales\n",
       "3  Standard Class  912401.0388\n",
       "2    Second Class  314508.0640\n",
       "0     First Class  242936.7194\n",
       "1        Same Day   95958.5010"
      ]
     },
     "execution_count": 33,
     "metadata": {},
     "output_type": "execute_result"
    }
   ],
   "source": [
    "# Top preffered ship mode\n",
    "df.groupby(['Ship Mode'], as_index=False)['Sales'].sum().sort_values(by='Sales',ascending=False)"
   ]
  },
  {
   "cell_type": "code",
   "execution_count": 34,
   "id": "a3aa7ff7",
   "metadata": {},
   "outputs": [
    {
     "data": {
      "text/html": [
       "<div>\n",
       "<style scoped>\n",
       "    .dataframe tbody tr th:only-of-type {\n",
       "        vertical-align: middle;\n",
       "    }\n",
       "\n",
       "    .dataframe tbody tr th {\n",
       "        vertical-align: top;\n",
       "    }\n",
       "\n",
       "    .dataframe thead th {\n",
       "        text-align: right;\n",
       "    }\n",
       "</style>\n",
       "<table border=\"1\" class=\"dataframe\">\n",
       "  <thead>\n",
       "    <tr style=\"text-align: right;\">\n",
       "      <th></th>\n",
       "      <th>Sub-Category</th>\n",
       "      <th>Sales</th>\n",
       "    </tr>\n",
       "  </thead>\n",
       "  <tbody>\n",
       "    <tr>\n",
       "      <th>13</th>\n",
       "      <td>Phones</td>\n",
       "      <td>196563.546</td>\n",
       "    </tr>\n",
       "    <tr>\n",
       "      <th>5</th>\n",
       "      <td>Chairs</td>\n",
       "      <td>181945.998</td>\n",
       "    </tr>\n",
       "    <tr>\n",
       "      <th>3</th>\n",
       "      <td>Binders</td>\n",
       "      <td>174978.390</td>\n",
       "    </tr>\n",
       "    <tr>\n",
       "      <th>14</th>\n",
       "      <td>Storage</td>\n",
       "      <td>150341.318</td>\n",
       "    </tr>\n",
       "    <tr>\n",
       "      <th>0</th>\n",
       "      <td>Accessories</td>\n",
       "      <td>122301.086</td>\n",
       "    </tr>\n",
       "    <tr>\n",
       "      <th>16</th>\n",
       "      <td>Tables</td>\n",
       "      <td>119293.743</td>\n",
       "    </tr>\n",
       "    <tr>\n",
       "      <th>12</th>\n",
       "      <td>Paper</td>\n",
       "      <td>99453.612</td>\n",
       "    </tr>\n",
       "    <tr>\n",
       "      <th>9</th>\n",
       "      <td>Furnishings</td>\n",
       "      <td>92691.218</td>\n",
       "    </tr>\n",
       "    <tr>\n",
       "      <th>11</th>\n",
       "      <td>Machines</td>\n",
       "      <td>91987.561</td>\n",
       "    </tr>\n",
       "    <tr>\n",
       "      <th>1</th>\n",
       "      <td>Appliances</td>\n",
       "      <td>80305.247</td>\n",
       "    </tr>\n",
       "  </tbody>\n",
       "</table>\n",
       "</div>"
      ],
      "text/plain": [
       "   Sub-Category       Sales\n",
       "13       Phones  196563.546\n",
       "5        Chairs  181945.998\n",
       "3       Binders  174978.390\n",
       "14      Storage  150341.318\n",
       "0   Accessories  122301.086\n",
       "16       Tables  119293.743\n",
       "12        Paper   99453.612\n",
       "9   Furnishings   92691.218\n",
       "11     Machines   91987.561\n",
       "1    Appliances   80305.247"
      ]
     },
     "execution_count": 34,
     "metadata": {},
     "output_type": "execute_result"
    }
   ],
   "source": [
    "# Top 10 preffered sales of sub category\n",
    "df.groupby(['Sub-Category'], as_index=False)['Sales'].sum().sort_values(by='Sales',ascending=False).head(10)"
   ]
  },
  {
   "cell_type": "code",
   "execution_count": 35,
   "id": "10ac0d1a",
   "metadata": {},
   "outputs": [
    {
     "data": {
      "text/html": [
       "<div>\n",
       "<style scoped>\n",
       "    .dataframe tbody tr th:only-of-type {\n",
       "        vertical-align: middle;\n",
       "    }\n",
       "\n",
       "    .dataframe tbody tr th {\n",
       "        vertical-align: top;\n",
       "    }\n",
       "\n",
       "    .dataframe thead th {\n",
       "        text-align: right;\n",
       "    }\n",
       "</style>\n",
       "<table border=\"1\" class=\"dataframe\">\n",
       "  <thead>\n",
       "    <tr style=\"text-align: right;\">\n",
       "      <th></th>\n",
       "      <th>Category</th>\n",
       "      <th>Sales</th>\n",
       "    </tr>\n",
       "  </thead>\n",
       "  <tbody>\n",
       "    <tr>\n",
       "      <th>1</th>\n",
       "      <td>Office Supplies</td>\n",
       "      <td>643707.6870</td>\n",
       "    </tr>\n",
       "    <tr>\n",
       "      <th>2</th>\n",
       "      <td>Technology</td>\n",
       "      <td>470587.9910</td>\n",
       "    </tr>\n",
       "    <tr>\n",
       "      <th>0</th>\n",
       "      <td>Furniture</td>\n",
       "      <td>451508.6452</td>\n",
       "    </tr>\n",
       "  </tbody>\n",
       "</table>\n",
       "</div>"
      ],
      "text/plain": [
       "          Category        Sales\n",
       "1  Office Supplies  643707.6870\n",
       "2       Technology  470587.9910\n",
       "0        Furniture  451508.6452"
      ]
     },
     "execution_count": 35,
     "metadata": {},
     "output_type": "execute_result"
    }
   ],
   "source": [
    "# Sales of category\n",
    "df.groupby(['Category'], as_index=False)['Sales'].sum().sort_values(by='Sales',ascending=False)"
   ]
  },
  {
   "cell_type": "code",
   "execution_count": 42,
   "id": "78c14cf7",
   "metadata": {},
   "outputs": [
    {
     "data": {
      "text/plain": [
       "Customer Name    Zuschuss Donatelli\n",
       "Sales                     11596.974\n",
       "dtype: object"
      ]
     },
     "execution_count": 42,
     "metadata": {},
     "output_type": "execute_result"
    }
   ],
   "source": [
    "# customer name who has highest sales\n",
    "df.groupby(['Customer Name'], as_index=False)['Sales'].sum().sort_values(by='Sales',ascending=False).max()"
   ]
  },
  {
   "cell_type": "code",
   "execution_count": 46,
   "id": "ea4faa0f",
   "metadata": {},
   "outputs": [
    {
     "data": {
      "text/plain": [
       "Customer ID     ZD-21925\n",
       "Sales          11596.974\n",
       "dtype: object"
      ]
     },
     "execution_count": 46,
     "metadata": {},
     "output_type": "execute_result"
    }
   ],
   "source": [
    "# customer id who has lowest sales\n",
    "df.groupby(['Customer ID'], as_index=False)['Sales'].sum().sort_values(by='Sales',ascending=False).max()"
   ]
  },
  {
   "cell_type": "code",
   "execution_count": 38,
   "id": "dc7f3cf3",
   "metadata": {},
   "outputs": [],
   "source": [
    "# ***************VISUALISATION OF DATA*****************"
   ]
  },
  {
   "cell_type": "code",
   "execution_count": 44,
   "id": "7a979307",
   "metadata": {},
   "outputs": [
    {
     "data": {
      "image/png": "[encoded data removed]",
      "text/plain": [
       "<Figure size 1000x1000 with 1 Axes>"
      ]
     },
     "metadata": {},
     "output_type": "display_data"
    }
   ],
   "source": [
    "# To see all counts payment mode\n",
    "ax=sns.countplot(x='Payment Mode',data=df)\n",
    "for bars in ax.containers:\n",
    "    ax.bar_label(bars)"
   ]
  },
  {
   "cell_type": "code",
   "execution_count": 40,
   "id": "ab661626",
   "metadata": {},
   "outputs": [
    {
     "data": {
      "text/plain": [
       "<Axes: xlabel='State', ylabel='Sales'>"
      ]
     },
     "execution_count": 40,
     "metadata": {},
     "output_type": "execute_result"
    },
    {
     "data": {
      "image/png": "[encoded data removed]",
      "text/plain": [
       "<Figure size 1000x1000 with 1 Axes>"
      ]
     },
     "metadata": {},
     "output_type": "display_data"
    }
   ],
   "source": [
    "#Stae vs Sales analysis\n",
    "sales_gen=df.groupby(['State'], as_index=False)['Sales'].sum().sort_values(by='Sales',ascending=False).head(5)#group 5 values\n",
    "sns.set(rc={'figure.figsize':(10,10)})#defining size of graph\n",
    "sns.barplot(x='State',y='Sales',data=sales_gen)#To plot\n"
   ]
  },
  {
   "cell_type": "code",
   "execution_count": 45,
   "id": "899279ef",
   "metadata": {},
   "outputs": [
    {
     "data": {
      "text/plain": [
       "<Axes: xlabel='Category', ylabel='Sales'>"
      ]
     },
     "execution_count": 45,
     "metadata": {},
     "output_type": "execute_result"
    },
    {
     "data": {
      "image/png": "[encoded data removed]",
      "text/plain": [
       "<Figure size 500x500 with 1 Axes>"
      ]
     },
     "metadata": {},
     "output_type": "display_data"
    }
   ],
   "source": [
    "#Plottling of sales vs category\n",
    "sg=df.groupby(['Category'], as_index=False)['Sales'].sum().sort_values(by='Sales',ascending=False)\n",
    "sns.set(rc={'figure.figsize':(5,5)})#defining size of graph\n",
    "sns.barplot(x='Category',y='Sales',data=sg)#To plot"
   ]
  },
  {
   "cell_type": "code",
   "execution_count": null,
   "id": "49963341",
   "metadata": {},
   "outputs": [],
   "source": []
  }
 ],
 "metadata": {
  "kernelspec": {
   "display_name": "Python 3 (ipykernel)",
   "language": "python",
   "name": "python3"
  },
  "language_info": {
   "codemirror_mode": {
    "name": "ipython",
    "version": 3
   },
   "file_extension": ".py",
   "mimetype": "text/x-python",
   "name": "python",
   "nbconvert_exporter": "python",
   "pygments_lexer": "ipython3",
   "version": "3.10.6"
  }
 },
 "nbformat": 4,
 "nbformat_minor": 5
}
